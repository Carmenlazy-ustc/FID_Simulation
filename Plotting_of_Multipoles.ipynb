{
 "cells": [
  {
   "cell_type": "code",
   "execution_count": 1,
   "metadata": {},
   "outputs": [],
   "source": [
    "%matplotlib inline"
   ]
  },
  {
   "cell_type": "code",
   "execution_count": 2,
   "metadata": {},
   "outputs": [],
   "source": [
    "import numpy as np\n",
    "from scipy import fftpack\n",
    "from scipy import signal\n",
    "from numericalunits import µ0, NA, kB, hbar, mm, cm, m, s, ms, us, Hz, kHz, MHz\n",
    "from numericalunits import T, K, J, g, mol, A, ohm, W, N, kg, mV, V, eV, uV, mT, uT\n",
    "\n",
    "from FID_simulation import StorageRingMagnet, FixedProbe, Noise\n",
    "\n",
    "import matplotlib.pyplot as plt\n",
    "from mpl_toolkits.axes_grid1.inset_locator import inset_axes\n",
    "from mpl_toolkits.axes_grid1.inset_locator import mark_inset\n",
    "from mpl_toolkits.mplot3d import Axes3D\n",
    "from matplotlib import cm as mcolors\n",
    "import matplotlib\n",
    "from matplotlib.gridspec import GridSpec"
   ]
  },
  {
   "cell_type": "code",
   "execution_count": 7,
   "metadata": {},
   "outputs": [],
   "source": [
    "def run_sim(multipole, strength):\n",
    "    external_field = StorageRingMagnet( )\n",
    "    external_field.set_strength_at_1cm(multipole, strength)\n",
    "    \n",
    "    nmr_probe = FixedProbe(B_field=external_field, N_cells=10000)\n",
    "\n",
    "    B0 = 1.45*T\n",
    "    cmap = \"seismic\"\n",
    "\n",
    "    title = external_field.strength_to_str(multipole, strength)\n",
    "    \n",
    "    ppm = (nmr_probe.cells_B0-B0)/B0*1e6\n",
    "    dB = np.max(np.abs(ppm))\n",
    "\n",
    "    fig = plt.figure()\n",
    "    gs = GridSpec(5, 6)\n",
    "    ax1 = plt.subplot(gs[0:2, :])\n",
    "    ax2 = plt.subplot(gs[2:, :3])\n",
    "    ax3 = plt.subplot(gs[2:, 3:], projection='3d')\n",
    "\n",
    "    fig.suptitle(title)\n",
    "\n",
    "    ax1.scatter(nmr_probe.cells_z/mm, nmr_probe.cells_y/mm, c=ppm, cmap=cmap, vmin=-dB, vmax=dB, s=3)\n",
    "    ax1.set_aspect(\"equal\")\n",
    "    ax1.set_xlabel(\"z/mm\")\n",
    "    ax1.set_ylabel(\"y/mm\")\n",
    "    ax1.set_xlim(-15, 15)\n",
    "\n",
    "    sc = ax2.scatter(nmr_probe.cells_x/mm, nmr_probe.cells_y/mm, c=ppm, cmap=cmap, vmin=-dB, vmax=dB, s=3)\n",
    "    ax2.set_aspect(\"equal\")\n",
    "    ax2.set_xlabel(\"x/mm\")\n",
    "    ax2.set_ylabel(\"y/mm\")\n",
    "    plt.colorbar(sc, ax=ax2).set_label(r\"$\\Delta B\\, /\\, \\mathrm{ppm}$\")\n",
    "\n",
    "    sc = ax3.scatter(nmr_probe.cells_x/mm, nmr_probe.cells_z/mm, nmr_probe.cells_y/mm, c=ppm, cmap=cmap, vmin=-dB, vmax=dB, s=3)\n",
    "    ax3.set_xlim(-5,5)\n",
    "    ax3.set_ylim(-5,5)\n",
    "    ax3.set_zlim(-5,5)\n",
    "    ax3.set_xlabel(\"x/mm\")\n",
    "    ax3.set_ylabel(\"z/mm\")\n",
    "    ax3.set_zlabel(\"y/mm\")\n",
    "\n",
    "    plt.tight_layout()\n",
    "    fig.savefig(\"./plots/multipole_plot_%d.png\"%int(multipole), dpi=200)\n",
    "    fig.savefig(\"./plots/multipole_plot_%d.pdf\"%int(multipole), bbox_inches=\"tight\")\n",
    "    plt.close()"
   ]
  },
  {
   "cell_type": "code",
   "execution_count": 9,
   "metadata": {},
   "outputs": [],
   "source": [
    "for multi in range(1,24):\n",
    "    run_sim(multi, 5e-6)"
   ]
  },
  {
   "cell_type": "code",
   "execution_count": null,
   "metadata": {},
   "outputs": [],
   "source": []
  }
 ],
 "metadata": {
  "kernelspec": {
   "display_name": "Python 3",
   "language": "python",
   "name": "python3"
  },
  "language_info": {
   "codemirror_mode": {
    "name": "ipython",
    "version": 3
   },
   "file_extension": ".py",
   "mimetype": "text/x-python",
   "name": "python",
   "nbconvert_exporter": "python",
   "pygments_lexer": "ipython3",
   "version": "3.6.4"
  }
 },
 "nbformat": 4,
 "nbformat_minor": 2
}
