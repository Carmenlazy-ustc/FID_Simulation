{
 "cells": [
  {
   "cell_type": "code",
   "execution_count": 2,
   "metadata": {},
   "outputs": [],
   "source": [
    "%matplotlib inline"
   ]
  },
  {
   "cell_type": "code",
   "execution_count": 3,
   "metadata": {},
   "outputs": [],
   "source": [
    "import numpy as np\n",
    "from scipy import fftpack\n",
    "from scipy import signal\n",
    "from numericalunits import µ0, NA, kB, hbar, mm, cm, m, s, ms, us, Hz, kHz, MHz\n",
    "from numericalunits import T, K, J, g, mol, A, ohm, W, N, kg, mV, V, eV, uV, mT, uT\n",
    "\n",
    "from FID_simulation import StorageRingMagnet, FixedProbe, Noise\n",
    "\n",
    "import matplotlib.pyplot as plt\n",
    "from mpl_toolkits.axes_grid1.inset_locator import inset_axes\n",
    "from mpl_toolkits.axes_grid1.inset_locator import mark_inset\n",
    "from mpl_toolkits.mplot3d import Axes3D\n",
    "from matplotlib import cm as mcolors\n",
    "import matplotlib\n",
    "\n",
    "import pickle"
   ]
  },
  {
   "cell_type": "code",
   "execution_count": 4,
   "metadata": {},
   "outputs": [],
   "source": [
    "def run_sim(multipole, strength):\n",
    "    external_field = StorageRingMagnet( )\n",
    "    external_field.set_strength_at_1cm(multipole, strength)\n",
    "    \n",
    "    nmr_probe = FixedProbe(B_field=external_field, N_cells=10000)\n",
    "    noise = Noise(freq_power=-1, scale_freq=3*uV)\n",
    "    nmr_probe.apply_rf_field()\n",
    "    times = np.linspace(0*ms, 10*ms, 10000) # 1 MSPS\n",
    "    flux = nmr_probe.pickup_flux(times, mix_down=61.74*MHz) + noise(times)\n",
    "    \n",
    "    \n",
    "    N = len(times)                # Number of samplepoints\n",
    "    xf = np.linspace(0.0, 1.0/(2.0*(times[1]-times[0]))/kHz, N/2)\n",
    "    fig = plt.figure()\n",
    "    ffts = {}\n",
    "    for win_name, window, color in [(\"None\", 1, \"k\"), \n",
    "                                     (\"Hamming\", signal.hamming(N), \"r\"),\n",
    "                                     (\"Hann\", signal.hann(N), \"b\"),]:\n",
    "        yf = fftpack.fft(flux/uV*window)\n",
    "        ffts[win_name] = yf\n",
    "        plt.plot(xf, 2.0/N * np.abs(yf[:N//2])**2/np.max(2.0/N * np.abs(yf[:N//2])**2), label=win_name, marker=\"x\", color=color)\n",
    "    plt.xlabel(\"f / kHz\")\n",
    "    plt.xlim([0, 1.0/(2.0*(times[1]-times[0]))/kHz])\n",
    "    plt.xlim([48, 52])\n",
    "    plt.ylabel(\"|FFT(f)|$^2$ / max(|FFT(f)|$^2$)\")\n",
    "    plt.legend(title=\"FFT-Window\")\n",
    "    def strength_to_str(strength, multipole):\n",
    "        str = \"%.1f ppm\"%(strength*1e6)\n",
    "        if strength < 1e-6:\n",
    "            str = \"%.1f ppb\"%(strength*1e9)\n",
    "        \n",
    "        if multipole==1: return \"Dipole: %s$\\cdot (1, 0, 0)^T$\"%str\n",
    "        if multipole==2: return \"Dipole: %s$\\cdot (0, 1, 0)^T$\"%str\n",
    "        if multipole==3: return \"Dipole: %s$\\cdot (0, 0, 1)^T$\"%str\n",
    "        \n",
    "        if multipole==4: return \"Quadrupole: %s/cm$\\cdot (x, -y, 0)^T$\"%str\n",
    "        if multipole==5: return \"Quadrupole: %s/cm$\\cdot (z, 0, x)^T$\"%str\n",
    "        if multipole==6: return \"Quadrupole: %s/cm$\\cdot (0, -y, z)^T$\"%str\n",
    "        if multipole==7: return \"Quadrupole: %s/cm$\\cdot (y, x, 0)^T$\"%str\n",
    "        if multipole==8: return \"Quadrupole: %s/cm$\\cdot (0, z, y)^T$\"%str\n",
    "        \n",
    "        if multipole==9: return \"Sextupole: %s/cm$^2\\cdot (x^2-y^2, -2xy, 0)^T$\"%str\n",
    "        if multipole==10: return \"Sextupole: %s/cm$^2\\cdot (2xz, -2yz, x^2-y^2)^T$\"%str\n",
    "        if multipole==11: return \"Sextupole: %s/cm$^2\\cdot (z^2-y^2, -2xy, 2xy)^T$\"%str\n",
    "        if multipole==12: return \"Sextupole: %s/cm$^2\\cdot (0, -2yz, z^2-y^2)^T$\"%str\n",
    "        if multipole==13: return \"Sextupole: %s/cm$^2\\cdot (2xy, x^2-y^2, 0)^T$\"%str\n",
    "        if multipole==14: return \"Sextupole: %s/cm$^2\\cdot (yz, xz, xy)^T$\"%str\n",
    "        if multipole==15: return \"Sextupole: %s/cm$^2\\cdot (0, z^2-y^2, 2yz)^T$\"%str\n",
    "        \n",
    "        if multipole==16: return \"Octupole: %s/cm$^3\\cdot (x^3-3xy^2, y^3-3x^2y,0)^T$\"%str\n",
    "        if multipole==17: return \"Octupole: %s/cm$^3\\cdot (3x^2z-3zy^2, -6xyz, x^3 - 3xy^2)^T$\"%str\n",
    "        if multipole==18: return \"Octupole: %s/cm$^3\\cdot (3xz^2-3xy^2, -3x^2y-3z^2y+2y^3, 3x^2z-3zy^2)^T$\"%str\n",
    "        if multipole==19: return \"Octupole: %s/cm$^3\\cdot (z^3-3zy^2, -6xyz, 3xz^2 - 3xy^2)^T$\"%str\n",
    "        if multipole==20: return \"Octupole: %s/cm$^3\\cdot (0, y^3-3z^2y, z^3-3zy^2)^T$\"%str\n",
    "        if multipole==21: return \"Octupole: %s/cm$^3\\cdot (3x^2y-y^3, x^3-3xy^2, 0)^T$\"%str\n",
    "        if multipole==22: return \"Octupole: %s/cm$^3\\cdot (6xyz, 3x^2z-3zy^2, 3x^2y-y^3)^T$\"%str\n",
    "        if multipole==23: return \"Octupole: %s/cm$^3\\cdot (3z^2y-y^3, 3xz^2-3xy^2, 6xyz)^T$\"%str\n",
    "        if multipole==24: return \"Octupole: %s/cm$^3\\cdot (0, z^3-3zy^2, 3z^2y-y^3)^T$\"%str\n",
    "        \n",
    "    def savepath(strength, multipole):\n",
    "        if multipole >= 16:\n",
    "            str = \"Octopole_%d\"\n",
    "        elif multipole >= 9:\n",
    "            str = \"Sextupole_%d\"\n",
    "        elif multipole >= 4:\n",
    "            str = \"Quadrupole_%d\"\n",
    "        else:\n",
    "            str = \"Dipole_%d\"\n",
    "        str = str%multipole\n",
    "        \n",
    "        if strength < 1e-6:\n",
    "            str += \"_%.1f_ppb\"%(strength*1e9)\n",
    "        else:\n",
    "            str += \"_%.1f_ppm\"%(strength*1e6)\n",
    "        \n",
    "        return str\n",
    "        \n",
    "    plt.title(strength_to_str(strength, multipole))\n",
    "    plt.tight_layout()\n",
    "    spath = savepath(strength, multipole)\n",
    "    plt.savefig(\"./plots/\"+spath+\".png\", dpi=200)  \n",
    "    plt.savefig(\"./plots/\"+spath+\".pdf\", bbox_inches=\"tight\")  \n",
    "    plt.close()\n",
    "    with open(\"./data/\"+spath+\".pickle\", \"wb\") as open_file:\n",
    "        pickle.dump({\"times\": times, \"flux\": flux, \"xf\": xf, \"ffts\": ffts}, open_file)"
   ]
  },
  {
   "cell_type": "code",
   "execution_count": 5,
   "metadata": {},
   "outputs": [
    {
     "name": "stderr",
     "output_type": "stream",
     "text": [
      "c:\\users\\rener\\appdata\\local\\programs\\python\\python36-32\\lib\\site-packages\\ipykernel_launcher.py:19: DeprecationWarning: object of type <class 'float'> cannot be safely interpreted as an integer.\n"
     ]
    }
   ],
   "source": [
    "for multi in range(10, 25):\n",
    "    for strength in np.linspace(0, 1e-5, 11):\n",
    "        run_sim(multi, strength)"
   ]
  }
 ],
 "metadata": {
  "kernelspec": {
   "display_name": "Python 3",
   "language": "python",
   "name": "python3"
  },
  "language_info": {
   "codemirror_mode": {
    "name": "ipython",
    "version": 3
   },
   "file_extension": ".py",
   "mimetype": "text/x-python",
   "name": "python",
   "nbconvert_exporter": "python",
   "pygments_lexer": "ipython3",
   "version": "3.6.4"
  }
 },
 "nbformat": 4,
 "nbformat_minor": 2
}
